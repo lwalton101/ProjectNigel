{
 "cells": [
  {
   "cell_type": "code",
   "execution_count": 46,
   "metadata": {},
   "outputs": [
    {
     "name": "stdout",
     "output_type": "stream",
     "text": [
      "Requirement already satisfied: transformers==4.45.0 in c:\\users\\lukew\\documents\\products\\python\\projectnigel\\brain\\.venv\\lib\\site-packages (4.45.0)\n",
      "Requirement already satisfied: datasets in c:\\users\\lukew\\documents\\products\\python\\projectnigel\\brain\\.venv\\lib\\site-packages (2.20.0)\n",
      "Requirement already satisfied: evaluate in c:\\users\\lukew\\documents\\products\\python\\projectnigel\\brain\\.venv\\lib\\site-packages (0.4.2)\n",
      "Requirement already satisfied: seqeval in c:\\users\\lukew\\documents\\products\\python\\projectnigel\\brain\\.venv\\lib\\site-packages (1.2.2)\n",
      "Requirement already satisfied: huggingface-hub<1.0,>=0.23.2 in c:\\users\\lukew\\documents\\products\\python\\projectnigel\\brain\\.venv\\lib\\site-packages (from transformers==4.45.0) (0.25.0)\n",
      "Requirement already satisfied: requests in c:\\users\\lukew\\documents\\products\\python\\projectnigel\\brain\\.venv\\lib\\site-packages (from transformers==4.45.0) (2.32.3)\n",
      "Requirement already satisfied: packaging>=20.0 in c:\\users\\lukew\\documents\\products\\python\\projectnigel\\brain\\.venv\\lib\\site-packages (from transformers==4.45.0) (24.0)\n",
      "Requirement already satisfied: regex!=2019.12.17 in c:\\users\\lukew\\documents\\products\\python\\projectnigel\\brain\\.venv\\lib\\site-packages (from transformers==4.45.0) (2024.5.15)\n",
      "Requirement already satisfied: tokenizers<0.21,>=0.20 in c:\\users\\lukew\\documents\\products\\python\\projectnigel\\brain\\.venv\\lib\\site-packages (from transformers==4.45.0) (0.20.0)\n",
      "Requirement already satisfied: tqdm>=4.27 in c:\\users\\lukew\\documents\\products\\python\\projectnigel\\brain\\.venv\\lib\\site-packages (from transformers==4.45.0) (4.66.4)\n",
      "Requirement already satisfied: numpy>=1.17 in c:\\users\\lukew\\documents\\products\\python\\projectnigel\\brain\\.venv\\lib\\site-packages (from transformers==4.45.0) (1.26.4)\n",
      "Requirement already satisfied: safetensors>=0.4.1 in c:\\users\\lukew\\documents\\products\\python\\projectnigel\\brain\\.venv\\lib\\site-packages (from transformers==4.45.0) (0.4.3)\n",
      "Requirement already satisfied: filelock in c:\\users\\lukew\\documents\\products\\python\\projectnigel\\brain\\.venv\\lib\\site-packages (from transformers==4.45.0) (3.15.1)\n",
      "Requirement already satisfied: pyyaml>=5.1 in c:\\users\\lukew\\documents\\products\\python\\projectnigel\\brain\\.venv\\lib\\site-packages (from transformers==4.45.0) (6.0.1)\n",
      "Requirement already satisfied: xxhash in c:\\users\\lukew\\documents\\products\\python\\projectnigel\\brain\\.venv\\lib\\site-packages (from datasets) (3.4.1)\n",
      "Requirement already satisfied: aiohttp in c:\\users\\lukew\\documents\\products\\python\\projectnigel\\brain\\.venv\\lib\\site-packages (from datasets) (3.9.5)\n",
      "Requirement already satisfied: pyarrow-hotfix in c:\\users\\lukew\\documents\\products\\python\\projectnigel\\brain\\.venv\\lib\\site-packages (from datasets) (0.6)\n",
      "Requirement already satisfied: fsspec[http]<=2024.5.0,>=2023.1.0 in c:\\users\\lukew\\documents\\products\\python\\projectnigel\\brain\\.venv\\lib\\site-packages (from datasets) (2024.5.0)\n",
      "Requirement already satisfied: dill<0.3.9,>=0.3.0 in c:\\users\\lukew\\documents\\products\\python\\projectnigel\\brain\\.venv\\lib\\site-packages (from datasets) (0.3.8)\n",
      "Requirement already satisfied: pandas in c:\\users\\lukew\\documents\\products\\python\\projectnigel\\brain\\.venv\\lib\\site-packages (from datasets) (2.2.2)\n",
      "Requirement already satisfied: multiprocess in c:\\users\\lukew\\documents\\products\\python\\projectnigel\\brain\\.venv\\lib\\site-packages (from datasets) (0.70.16)\n",
      "Requirement already satisfied: pyarrow>=15.0.0 in c:\\users\\lukew\\documents\\products\\python\\projectnigel\\brain\\.venv\\lib\\site-packages (from datasets) (16.1.0)\n",
      "Requirement already satisfied: scikit-learn>=0.21.3 in c:\\users\\lukew\\documents\\products\\python\\projectnigel\\brain\\.venv\\lib\\site-packages (from seqeval) (1.4.2)\n",
      "Requirement already satisfied: attrs>=17.3.0 in c:\\users\\lukew\\documents\\products\\python\\projectnigel\\brain\\.venv\\lib\\site-packages (from aiohttp->datasets) (23.2.0)\n",
      "Requirement already satisfied: multidict<7.0,>=4.5 in c:\\users\\lukew\\documents\\products\\python\\projectnigel\\brain\\.venv\\lib\\site-packages (from aiohttp->datasets) (6.0.5)\n",
      "Requirement already satisfied: aiosignal>=1.1.2 in c:\\users\\lukew\\documents\\products\\python\\projectnigel\\brain\\.venv\\lib\\site-packages (from aiohttp->datasets) (1.3.1)\n",
      "Requirement already satisfied: frozenlist>=1.1.1 in c:\\users\\lukew\\documents\\products\\python\\projectnigel\\brain\\.venv\\lib\\site-packages (from aiohttp->datasets) (1.4.1)\n",
      "Requirement already satisfied: yarl<2.0,>=1.0 in c:\\users\\lukew\\documents\\products\\python\\projectnigel\\brain\\.venv\\lib\\site-packages (from aiohttp->datasets) (1.9.4)\n",
      "Requirement already satisfied: async-timeout<5.0,>=4.0 in c:\\users\\lukew\\documents\\products\\python\\projectnigel\\brain\\.venv\\lib\\site-packages (from aiohttp->datasets) (4.0.3)\n",
      "Requirement already satisfied: typing-extensions>=3.7.4.3 in c:\\users\\lukew\\documents\\products\\python\\projectnigel\\brain\\.venv\\lib\\site-packages (from huggingface-hub<1.0,>=0.23.2->transformers==4.45.0) (4.11.0)\n",
      "Requirement already satisfied: idna<4,>=2.5 in c:\\users\\lukew\\documents\\products\\python\\projectnigel\\brain\\.venv\\lib\\site-packages (from requests->transformers==4.45.0) (3.7)\n",
      "Requirement already satisfied: urllib3<3,>=1.21.1 in c:\\users\\lukew\\documents\\products\\python\\projectnigel\\brain\\.venv\\lib\\site-packages (from requests->transformers==4.45.0) (2.2.1)\n",
      "Requirement already satisfied: charset-normalizer<4,>=2 in c:\\users\\lukew\\documents\\products\\python\\projectnigel\\brain\\.venv\\lib\\site-packages (from requests->transformers==4.45.0) (3.3.2)\n",
      "Requirement already satisfied: certifi>=2017.4.17 in c:\\users\\lukew\\documents\\products\\python\\projectnigel\\brain\\.venv\\lib\\site-packages (from requests->transformers==4.45.0) (2024.2.2)\n",
      "Requirement already satisfied: scipy>=1.6.0 in c:\\users\\lukew\\documents\\products\\python\\projectnigel\\brain\\.venv\\lib\\site-packages (from scikit-learn>=0.21.3->seqeval) (1.13.0)\n",
      "Requirement already satisfied: threadpoolctl>=2.0.0 in c:\\users\\lukew\\documents\\products\\python\\projectnigel\\brain\\.venv\\lib\\site-packages (from scikit-learn>=0.21.3->seqeval) (3.5.0)\n",
      "Requirement already satisfied: joblib>=1.2.0 in c:\\users\\lukew\\documents\\products\\python\\projectnigel\\brain\\.venv\\lib\\site-packages (from scikit-learn>=0.21.3->seqeval) (1.4.2)\n",
      "Requirement already satisfied: colorama in c:\\users\\lukew\\documents\\products\\python\\projectnigel\\brain\\.venv\\lib\\site-packages (from tqdm>=4.27->transformers==4.45.0) (0.4.6)\n",
      "Requirement already satisfied: tzdata>=2022.7 in c:\\users\\lukew\\documents\\products\\python\\projectnigel\\brain\\.venv\\lib\\site-packages (from pandas->datasets) (2024.1)\n",
      "Requirement already satisfied: pytz>=2020.1 in c:\\users\\lukew\\documents\\products\\python\\projectnigel\\brain\\.venv\\lib\\site-packages (from pandas->datasets) (2024.1)\n",
      "Requirement already satisfied: python-dateutil>=2.8.2 in c:\\users\\lukew\\documents\\products\\python\\projectnigel\\brain\\.venv\\lib\\site-packages (from pandas->datasets) (2.9.0.post0)\n",
      "Requirement already satisfied: six>=1.5 in c:\\users\\lukew\\documents\\products\\python\\projectnigel\\brain\\.venv\\lib\\site-packages (from python-dateutil>=2.8.2->pandas->datasets) (1.16.0)\n",
      "Note: you may need to restart the kernel to use updated packages.\n"
     ]
    },
    {
     "name": "stderr",
     "output_type": "stream",
     "text": [
      "\n",
      "[notice] A new release of pip is available: 23.0.1 -> 24.2\n",
      "[notice] To update, run: python.exe -m pip install --upgrade pip\n"
     ]
    }
   ],
   "source": [
    "%pip install transformers==4.45.0 datasets evaluate seqeval"
   ]
  },
  {
   "cell_type": "code",
   "execution_count": 1,
   "metadata": {},
   "outputs": [
    {
     "data": {
      "application/vnd.jupyter.widget-view+json": {
       "model_id": "04471d9d57d94c39bdab5d19d8cf82dd",
       "version_major": 2,
       "version_minor": 0
      },
      "text/plain": [
       "VBox(children=(HTML(value='<center> <img\\nsrc=https://huggingface.co/front/assets/huggingface_logo-noborder.sv…"
      ]
     },
     "metadata": {},
     "output_type": "display_data"
    }
   ],
   "source": [
    "from huggingface_hub import notebook_login\n",
    "\n",
    "notebook_login()"
   ]
  },
  {
   "cell_type": "code",
   "execution_count": 2,
   "metadata": {},
   "outputs": [
    {
     "data": {
      "text/plain": [
       "DatasetDict({\n",
       "    train: Dataset({\n",
       "        features: ['tokens', 'ner_tags', 'id'],\n",
       "        num_rows: 2184\n",
       "    })\n",
       "    test: Dataset({\n",
       "        features: ['tokens', 'ner_tags', 'id'],\n",
       "        num_rows: 382\n",
       "    })\n",
       "    validation: Dataset({\n",
       "        features: ['tokens', 'ner_tags', 'id'],\n",
       "        num_rows: 164\n",
       "    })\n",
       "})"
      ]
     },
     "execution_count": 2,
     "metadata": {},
     "output_type": "execute_result"
    }
   ],
   "source": [
    "from datasets import Dataset, DatasetDict\n",
    "import pandas as pd\n",
    "\n",
    "datasetName = \"play_audio\"\n",
    "df = pd.read_json(f\"../../train/data/{datasetName}.json\")\n",
    "dataset = Dataset.from_pandas(df)\n",
    "#dataset = dataset.class_encode_column(\"ner_tags\")\n",
    "trainTest = dataset.train_test_split(0.2)\n",
    "testVal = trainTest[\"test\"].train_test_split(0.3)\n",
    "dataset = DatasetDict({\n",
    "    \"train\": trainTest[\"train\"],\n",
    "    \"test\": testVal[\"train\"],\n",
    "    \"validation\": testVal[\"test\"]\n",
    "})\n",
    "dataset"
   ]
  },
  {
   "cell_type": "code",
   "execution_count": 3,
   "metadata": {},
   "outputs": [
    {
     "data": {
      "text/plain": [
       "{'tokens': ['yo',\n",
       "  'can',\n",
       "  'you',\n",
       "  'Play',\n",
       "  'Shape',\n",
       "  'of',\n",
       "  'you',\n",
       "  'by',\n",
       "  'The',\n",
       "  'Cold',\n",
       "  'Lonely',\n",
       "  'Malones'],\n",
       " 'ner_tags': [0, 0, 0, 0, 1, 2, 2, 0, 3, 4, 4, 4],\n",
       " 'id': 1689}"
      ]
     },
     "execution_count": 3,
     "metadata": {},
     "output_type": "execute_result"
    }
   ],
   "source": [
    "dataset[\"train\"][0]"
   ]
  },
  {
   "cell_type": "code",
   "execution_count": 4,
   "metadata": {},
   "outputs": [],
   "source": [
    "label_list = [\n",
    "    \"O\",\n",
    "    \"B-SongName\",\n",
    "    \"I-SongName\",\n",
    "    \"B-ArtistName\",\n",
    "    \"I-ArtistName\"\n",
    "]\n",
    "\n",
    "#print(label_list)"
   ]
  },
  {
   "cell_type": "code",
   "execution_count": 5,
   "metadata": {},
   "outputs": [
    {
     "name": "stderr",
     "output_type": "stream",
     "text": [
      "c:\\Users\\lukew\\Documents\\Products\\Python\\ProjectNigel\\Brain\\.venv\\lib\\site-packages\\transformers\\tokenization_utils_base.py:1617: FutureWarning: `clean_up_tokenization_spaces` was not set. It will be set to `True` by default. This behavior will be deprecated in transformers v4.45, and will be then set to `False` by default. For more details check this issue: https://github.com/huggingface/transformers/issues/31884\n",
      "  warnings.warn(\n"
     ]
    }
   ],
   "source": [
    "from transformers import AutoTokenizer\n",
    "\n",
    "tokenizer = AutoTokenizer.from_pretrained(\"distilbert/distilbert-base-uncased\")"
   ]
  },
  {
   "cell_type": "code",
   "execution_count": 7,
   "metadata": {},
   "outputs": [
    {
     "data": {
      "text/plain": [
       "['[CLS]',\n",
       " 'yo',\n",
       " 'can',\n",
       " 'you',\n",
       " 'play',\n",
       " 'shape',\n",
       " 'of',\n",
       " 'you',\n",
       " 'by',\n",
       " 'the',\n",
       " 'cold',\n",
       " 'lonely',\n",
       " 'malone',\n",
       " '##s',\n",
       " '[SEP]']"
      ]
     },
     "execution_count": 7,
     "metadata": {},
     "output_type": "execute_result"
    }
   ],
   "source": [
    "example = dataset[\"train\"][0]\n",
    "\n",
    "tokenized_input = tokenizer(example[\"tokens\"], is_split_into_words=True)\n",
    "\n",
    "tokens = tokenizer.convert_ids_to_tokens(tokenized_input[\"input_ids\"])\n",
    "\n",
    "tokens"
   ]
  },
  {
   "cell_type": "code",
   "execution_count": 8,
   "metadata": {},
   "outputs": [],
   "source": [
    "def tokenize_and_align_labels(examples):\n",
    "    tokenized_inputs = tokenizer(examples[\"tokens\"], truncation=True, is_split_into_words=True)\n",
    "\n",
    "    labels = []\n",
    "    for i, label in enumerate(examples[f\"ner_tags\"]):\n",
    "        word_ids = tokenized_inputs.word_ids(batch_index=i)  # Map tokens to their respective word.\n",
    "        previous_word_idx = None\n",
    "        label_ids = []\n",
    "        for word_idx in word_ids:  # Set the special tokens to -100.\n",
    "            if word_idx is None:\n",
    "                label_ids.append(-100)\n",
    "            elif word_idx != previous_word_idx:  # Only label the first token of a given word.\n",
    "                label_ids.append(label[word_idx])\n",
    "            else:\n",
    "                label_ids.append(-100)\n",
    "            previous_word_idx = word_idx\n",
    "        labels.append(label_ids)\n",
    "\n",
    "    tokenized_inputs[\"labels\"] = labels\n",
    "    return tokenized_inputs"
   ]
  },
  {
   "cell_type": "code",
   "execution_count": 9,
   "metadata": {},
   "outputs": [
    {
     "data": {
      "application/vnd.jupyter.widget-view+json": {
       "model_id": "a0f472c9e2b045fc951e461a6d0ed9ed",
       "version_major": 2,
       "version_minor": 0
      },
      "text/plain": [
       "Map:   0%|          | 0/2184 [00:00<?, ? examples/s]"
      ]
     },
     "metadata": {},
     "output_type": "display_data"
    },
    {
     "data": {
      "application/vnd.jupyter.widget-view+json": {
       "model_id": "47574f2c4f3c471fb437a47f494c44b6",
       "version_major": 2,
       "version_minor": 0
      },
      "text/plain": [
       "Map:   0%|          | 0/382 [00:00<?, ? examples/s]"
      ]
     },
     "metadata": {},
     "output_type": "display_data"
    },
    {
     "data": {
      "application/vnd.jupyter.widget-view+json": {
       "model_id": "5d8b49d99c174809a45bed160f8f0ba5",
       "version_major": 2,
       "version_minor": 0
      },
      "text/plain": [
       "Map:   0%|          | 0/164 [00:00<?, ? examples/s]"
      ]
     },
     "metadata": {},
     "output_type": "display_data"
    }
   ],
   "source": [
    "tokenized_wnut = dataset.map(tokenize_and_align_labels, batched=True)"
   ]
  },
  {
   "cell_type": "code",
   "execution_count": 10,
   "metadata": {},
   "outputs": [],
   "source": [
    "from transformers import DataCollatorForTokenClassification\n",
    "\n",
    "data_collator = DataCollatorForTokenClassification(tokenizer=tokenizer, return_tensors=\"tf\")"
   ]
  },
  {
   "cell_type": "code",
   "execution_count": 11,
   "metadata": {},
   "outputs": [],
   "source": [
    "import evaluate\n",
    "\n",
    "seqeval = evaluate.load(\"seqeval\")"
   ]
  },
  {
   "cell_type": "code",
   "execution_count": 12,
   "metadata": {},
   "outputs": [],
   "source": [
    "import numpy as np\n",
    "\n",
    "labels = [label_list[i] for i in example[f\"ner_tags\"]]\n",
    "\n",
    "\n",
    "def compute_metrics(p):\n",
    "\n",
    "    predictions, labels = p\n",
    "\n",
    "    predictions = np.argmax(predictions, axis=2)\n",
    "\n",
    "    true_predictions = [\n",
    "\n",
    "        [label_list[p] for (p, l) in zip(prediction, label) if l != -100]\n",
    "\n",
    "        for prediction, label in zip(predictions, labels)\n",
    "\n",
    "    ]\n",
    "\n",
    "    true_labels = [\n",
    "\n",
    "        [label_list[l] for (p, l) in zip(prediction, label) if l != -100]\n",
    "\n",
    "        for prediction, label in zip(predictions, labels)\n",
    "\n",
    "    ]\n",
    "\n",
    "    results = seqeval.compute(predictions=true_predictions, references=true_labels)\n",
    "\n",
    "    return {\n",
    "\n",
    "        \"precision\": results[\"overall_precision\"],\n",
    "\n",
    "        \"recall\": results[\"overall_recall\"],\n",
    "\n",
    "        \"f1\": results[\"overall_f1\"],\n",
    "\n",
    "        \"accuracy\": results[\"overall_accuracy\"],\n",
    "\n",
    "    }"
   ]
  },
  {
   "cell_type": "code",
   "execution_count": 13,
   "metadata": {},
   "outputs": [],
   "source": [
    "id2label = {x: label_list[x] for x in range(len(label_list))}\n",
    "\n",
    "label2id = {v: k for k, v in id2label.items()}"
   ]
  },
  {
   "cell_type": "code",
   "execution_count": 14,
   "metadata": {},
   "outputs": [
    {
     "name": "stdout",
     "output_type": "stream",
     "text": [
      "WARNING:tensorflow:From c:\\Users\\lukew\\Documents\\Products\\Python\\ProjectNigel\\Brain\\.venv\\lib\\site-packages\\tf_keras\\src\\losses.py:2976: The name tf.losses.sparse_softmax_cross_entropy is deprecated. Please use tf.compat.v1.losses.sparse_softmax_cross_entropy instead.\n",
      "\n"
     ]
    }
   ],
   "source": [
    "from transformers import create_optimizer\n",
    "\n",
    "batch_size = 16\n",
    "num_train_epochs = 3\n",
    "num_train_steps = (len(tokenized_wnut[\"train\"]) // batch_size) * num_train_epochs\n",
    "optimizer, lr_schedule = create_optimizer(\n",
    "    init_lr=2e-5,\n",
    "    num_train_steps=num_train_steps,\n",
    "    weight_decay_rate=0.01,\n",
    "    num_warmup_steps=0,\n",
    ")"
   ]
  },
  {
   "cell_type": "code",
   "execution_count": 15,
   "metadata": {},
   "outputs": [
    {
     "name": "stdout",
     "output_type": "stream",
     "text": [
      "WARNING:tensorflow:From c:\\Users\\lukew\\Documents\\Products\\Python\\ProjectNigel\\Brain\\.venv\\lib\\site-packages\\tf_keras\\src\\backend.py:873: The name tf.get_default_graph is deprecated. Please use tf.compat.v1.get_default_graph instead.\n",
      "\n"
     ]
    },
    {
     "name": "stderr",
     "output_type": "stream",
     "text": [
      "Some weights of the PyTorch model were not used when initializing the TF 2.0 model TFDistilBertForTokenClassification: ['vocab_transform.bias', 'vocab_projector.bias', 'vocab_layer_norm.weight', 'vocab_transform.weight', 'vocab_layer_norm.bias']\n",
      "- This IS expected if you are initializing TFDistilBertForTokenClassification from a PyTorch model trained on another task or with another architecture (e.g. initializing a TFBertForSequenceClassification model from a BertForPreTraining model).\n",
      "- This IS NOT expected if you are initializing TFDistilBertForTokenClassification from a PyTorch model that you expect to be exactly identical (e.g. initializing a TFBertForSequenceClassification model from a BertForSequenceClassification model).\n",
      "Some weights or buffers of the TF 2.0 model TFDistilBertForTokenClassification were not initialized from the PyTorch model and are newly initialized: ['classifier.weight', 'classifier.bias']\n",
      "You should probably TRAIN this model on a down-stream task to be able to use it for predictions and inference.\n"
     ]
    }
   ],
   "source": [
    "from transformers import TFAutoModelForTokenClassification\n",
    "\n",
    "model = TFAutoModelForTokenClassification.from_pretrained(\n",
    "    \"distilbert/distilbert-base-uncased\", num_labels=len(label_list), id2label=id2label, label2id=label2id\n",
    ")"
   ]
  },
  {
   "cell_type": "code",
   "execution_count": 16,
   "metadata": {},
   "outputs": [],
   "source": [
    "tf_train_set = model.prepare_tf_dataset(\n",
    "    tokenized_wnut[\"train\"],\n",
    "    shuffle=True,\n",
    "    batch_size=16,\n",
    "    collate_fn=data_collator,\n",
    ")\n",
    "\n",
    "tf_validation_set = model.prepare_tf_dataset(\n",
    "    tokenized_wnut[\"validation\"],\n",
    "    shuffle=False,\n",
    "    batch_size=16,\n",
    "    collate_fn=data_collator,\n",
    ")"
   ]
  },
  {
   "cell_type": "code",
   "execution_count": 17,
   "metadata": {},
   "outputs": [],
   "source": [
    "import tensorflow as tf\n",
    "\n",
    "model.compile(optimizer=optimizer, run_eagerly=True)"
   ]
  },
  {
   "cell_type": "code",
   "execution_count": 18,
   "metadata": {},
   "outputs": [],
   "source": [
    "from transformers.keras_callbacks import KerasMetricCallback\n",
    "\n",
    "metric_callback = KerasMetricCallback(metric_fn=compute_metrics, eval_dataset=tf_validation_set)"
   ]
  },
  {
   "cell_type": "code",
   "execution_count": 19,
   "metadata": {},
   "outputs": [
    {
     "name": "stderr",
     "output_type": "stream",
     "text": [
      "c:\\Users\\lukew\\Documents\\Products\\Python\\ProjectNigel\\Brain\\.venv\\lib\\site-packages\\huggingface_hub\\utils\\_deprecation.py:131: FutureWarning: 'Repository' (from 'huggingface_hub.repository') is deprecated and will be removed from version '1.0'. Please prefer the http-based alternatives instead. Given its large adoption in legacy code, the complete removal is only planned on next major release.\n",
      "For more details, please read https://huggingface.co/docs/huggingface_hub/concepts/git_vs_http.\n",
      "  warnings.warn(warning_message, FutureWarning)\n",
      "c:\\Users\\lukew\\Documents\\Products\\Python\\ProjectNigel\\Brain\\ai\\slot\\train\\Project_Nigel_Slot_Filling is already a clone of https://huggingface.co/Nicknotname/Project_Nigel_Slot_Filling. Make sure you pull the latest changes with `repo.git_pull()`.\n"
     ]
    }
   ],
   "source": [
    "from transformers.keras_callbacks import PushToHubCallback\n",
    "\n",
    "push_to_hub_callback = PushToHubCallback(\n",
    "    output_dir=\"Project_Nigel_Slot_Filling\",\n",
    "    tokenizer=tokenizer\n",
    ")"
   ]
  },
  {
   "cell_type": "code",
   "execution_count": 21,
   "metadata": {},
   "outputs": [],
   "source": [
    "callbacks = [metric_callback, push_to_hub_callback]"
   ]
  },
  {
   "cell_type": "code",
   "execution_count": 22,
   "metadata": {},
   "outputs": [
    {
     "name": "stdout",
     "output_type": "stream",
     "text": [
      "WARNING:tensorflow:From c:\\Users\\lukew\\Documents\\Products\\Python\\ProjectNigel\\Brain\\.venv\\lib\\site-packages\\tf_keras\\src\\utils\\tf_utils.py:492: The name tf.ragged.RaggedTensorValue is deprecated. Please use tf.compat.v1.ragged.RaggedTensorValue instead.\n",
      "\n",
      "136/136 [==============================] - ETA: 0s - loss: 0.2513"
     ]
    },
    {
     "name": "stderr",
     "output_type": "stream",
     "text": [
      "Several commits (10) will be pushed upstream.\n"
     ]
    },
    {
     "name": "stdout",
     "output_type": "stream",
     "text": [
      "136/136 [==============================] - 110s 801ms/step - loss: 0.2513 - val_loss: 0.0042 - precision: 1.0000 - recall: 1.0000 - f1: 1.0000 - accuracy: 1.0000\n"
     ]
    },
    {
     "data": {
      "text/plain": [
       "<tf_keras.src.callbacks.History at 0x2cd0d197bb0>"
      ]
     },
     "execution_count": 22,
     "metadata": {},
     "output_type": "execute_result"
    }
   ],
   "source": [
    "model.fit(x=tf_train_set, validation_data=tf_validation_set, epochs=1, callbacks=callbacks)"
   ]
  },
  {
   "cell_type": "code",
   "execution_count": 23,
   "metadata": {},
   "outputs": [
    {
     "name": "stdout",
     "output_type": "stream",
     "text": [
      "WARNING:tensorflow:From c:\\Users\\lukew\\Documents\\Products\\Python\\ProjectNigel\\Brain\\.venv\\lib\\site-packages\\tensorflow\\python\\autograph\\converters\\directives.py:126: The name tf.nn.fused_batch_norm is deprecated. Please use tf.compat.v1.nn.fused_batch_norm instead.\n",
      "\n",
      "WARNING:tensorflow:From c:\\Users\\lukew\\Documents\\Products\\Python\\ProjectNigel\\Brain\\.venv\\lib\\site-packages\\tf_keras\\src\\saving\\legacy\\saved_model\\save_impl.py:68: The name tf.logging.warning is deprecated. Please use tf.compat.v1.logging.warning instead.\n",
      "\n",
      "WARNING:tensorflow:Skipping full serialization of TF-Keras layer <tf_keras.src.layers.regularization.dropout.Dropout object at 0x000002CD0BEBA4D0>, because it is not built.\n",
      "WARNING:tensorflow:Skipping full serialization of TF-Keras layer <tf_keras.src.layers.regularization.dropout.Dropout object at 0x000002CD0C125180>, because it is not built.\n",
      "WARNING:tensorflow:Skipping full serialization of TF-Keras layer <tf_keras.src.layers.regularization.dropout.Dropout object at 0x000002CD0C127E50>, because it is not built.\n",
      "WARNING:tensorflow:Skipping full serialization of TF-Keras layer <tf_keras.src.layers.regularization.dropout.Dropout object at 0x000002CD0D102B60>, because it is not built.\n",
      "WARNING:tensorflow:Skipping full serialization of TF-Keras layer <tf_keras.src.layers.regularization.dropout.Dropout object at 0x000002CD0D115870>, because it is not built.\n",
      "WARNING:tensorflow:Skipping full serialization of TF-Keras layer <tf_keras.src.layers.regularization.dropout.Dropout object at 0x000002CD0D124580>, because it is not built.\n",
      "INFO:tensorflow:Assets written to: test\\assets\n"
     ]
    },
    {
     "name": "stderr",
     "output_type": "stream",
     "text": [
      "INFO:tensorflow:Assets written to: test\\assets\n"
     ]
    }
   ],
   "source": [
    "model.save(\"test\")"
   ]
  },
  {
   "cell_type": "code",
   "execution_count": 28,
   "metadata": {},
   "outputs": [
    {
     "data": {
      "text/plain": [
       "['O',\n",
       " 'O',\n",
       " 'O',\n",
       " 'O',\n",
       " 'O',\n",
       " 'O',\n",
       " 'B-SongName',\n",
       " 'I-SongName',\n",
       " 'I-SongName',\n",
       " 'I-SongName',\n",
       " 'I-SongName',\n",
       " 'O',\n",
       " 'B-ArtistName',\n",
       " 'I-ArtistName',\n",
       " 'I-ArtistName',\n",
       " 'I-ArtistName',\n",
       " 'I-ArtistName',\n",
       " 'I-ArtistName',\n",
       " 'O']"
      ]
     },
     "execution_count": 28,
     "metadata": {},
     "output_type": "execute_result"
    }
   ],
   "source": [
    "text = \"i want you to play too cool to be careless by big steve and the rocking chair\"\n",
    "inputs = tokenizer(text, return_tensors=\"tf\")\n",
    "logits = model(**inputs).logits\n",
    "predicted_token_class_ids = tf.math.argmax(logits, axis=-1)\n",
    "\n",
    "predicted_token_class = [model.config.id2label[t] for t in predicted_token_class_ids[0].numpy().tolist()]\n",
    "\n",
    "predicted_token_class"
   ]
  },
  {
   "cell_type": "code",
   "execution_count": 26,
   "metadata": {},
   "outputs": [
    {
     "name": "stdout",
     "output_type": "stream",
     "text": [
      "[{'entity': 'Test', 'score': 0.99804986, 'index': 1, 'word': 'i', 'start': 0, 'end': 1}, {'entity': 'Test', 'score': 0.9977931, 'index': 2, 'word': 'want', 'start': 2, 'end': 6}, {'entity': 'Test', 'score': 0.9984444, 'index': 3, 'word': 'you', 'start': 7, 'end': 10}, {'entity': 'Test', 'score': 0.9984787, 'index': 4, 'word': 'to', 'start': 11, 'end': 13}, {'entity': 'Test', 'score': 0.9983442, 'index': 5, 'word': 'play', 'start': 14, 'end': 18}, {'entity': 'B-SongName', 'score': 0.9942616, 'index': 6, 'word': 'too', 'start': 19, 'end': 22}, {'entity': 'I-SongName', 'score': 0.98028034, 'index': 7, 'word': 'cool', 'start': 23, 'end': 27}, {'entity': 'I-SongName', 'score': 0.9962598, 'index': 8, 'word': 'to', 'start': 28, 'end': 30}, {'entity': 'I-SongName', 'score': 0.9972511, 'index': 9, 'word': 'be', 'start': 31, 'end': 33}, {'entity': 'I-SongName', 'score': 0.99692637, 'index': 10, 'word': 'careless', 'start': 34, 'end': 42}, {'entity': 'Test', 'score': 0.9984511, 'index': 11, 'word': 'by', 'start': 43, 'end': 45}, {'entity': 'B-ArtistName', 'score': 0.99697566, 'index': 12, 'word': 'big', 'start': 46, 'end': 49}, {'entity': 'I-ArtistName', 'score': 0.99770087, 'index': 13, 'word': 'steve', 'start': 50, 'end': 55}, {'entity': 'I-ArtistName', 'score': 0.99718237, 'index': 14, 'word': 'and', 'start': 56, 'end': 59}, {'entity': 'I-ArtistName', 'score': 0.9975005, 'index': 15, 'word': 'the', 'start': 60, 'end': 63}, {'entity': 'I-ArtistName', 'score': 0.99773943, 'index': 16, 'word': 'rocking', 'start': 64, 'end': 71}, {'entity': 'I-ArtistName', 'score': 0.99782795, 'index': 17, 'word': 'chair', 'start': 72, 'end': 77}]\n",
      "Test: i\n",
      "Test: want\n",
      "Test: you\n",
      "Test: to\n",
      "Test: play\n",
      "SongName: too cool to be careless\n",
      "Test: by\n",
      "ArtistName: big steve and the rocking chair\n"
     ]
    }
   ],
   "source": [
    "result = classifier()\n",
    "print(result)\n",
    "combined_entities = []\n",
    "current_entity = None\n",
    "current_label = None\n",
    "\n",
    "for item in result:\n",
    "    entity = item['entity']\n",
    "    word = item['word']\n",
    "\n",
    "    if entity.startswith('B-'):\n",
    "        # Start of a new entity, so save the previous one\n",
    "        if current_entity:\n",
    "            combined_entities.append(f\"{current_label}: {current_entity}\")\n",
    "        current_entity = word\n",
    "        current_label = entity[2:]  # Remove 'B-' prefix\n",
    "    elif entity.startswith('I-') and entity[2:] == current_label:\n",
    "        # Continuation of the current entity\n",
    "        current_entity += f\" {word}\"\n",
    "    else:\n",
    "        # Non-B/I entity, just append directly\n",
    "        if current_entity:\n",
    "            combined_entities.append(f\"{current_label}: {current_entity}\")\n",
    "        current_entity = None\n",
    "        current_label = None\n",
    "        combined_entities.append(f\"{entity}: {word}\")\n",
    "\n",
    "# Append the last entity if it exists\n",
    "if current_entity:\n",
    "    combined_entities.append(f\"{current_label}: {current_entity}\")\n",
    "\n",
    "# Display the combined entities\n",
    "for entity in combined_entities:\n",
    "    print(entity)"
   ]
  }
 ],
 "metadata": {
  "kernelspec": {
   "display_name": ".venv",
   "language": "python",
   "name": "python3"
  },
  "language_info": {
   "codemirror_mode": {
    "name": "ipython",
    "version": 3
   },
   "file_extension": ".py",
   "mimetype": "text/x-python",
   "name": "python",
   "nbconvert_exporter": "python",
   "pygments_lexer": "ipython3",
   "version": "3.10.11"
  },
  "orig_nbformat": 4
 },
 "nbformat": 4,
 "nbformat_minor": 2
}
